{
 "cells": [
  {
   "cell_type": "code",
   "execution_count": 1,
   "metadata": {},
   "outputs": [],
   "source": [
    "from math import ceil\n",
    "import re\n",
    "import subprocess\n",
    "import sys\n",
    "\n",
    "import pandas as pd\n",
    "import pegasus as pg\n",
    "import numpy as np\n",
    "\n",
    "import paths\n",
    "from config import do_counts, do_genes, do_mito, do_ribo, OUTPUT_DIR, DATA_DIR\n",
    "from filters import filter_cells, initial_qc\n",
    "from local_config import local\n",
    "from readers import auto_reader\n",
    "from utils import cluster_data, safe_mkdir, add_cd_scores, title\n",
    "\n",
    "TASKS_PER_TISS = 1  # how many different methods per one tissue. Used to determine method and param from task id\n",
    "#DATA_DIR = \"/Users/michaelalperovich/Documents/primes_storage/data/\"\n",
    "DATA_DIR = \"/Volumes/easystore/primes_storage/data/\"\n",
    "\n",
    "project = \"mc_ebi_tm\"\n",
    "task_id = 3\n",
    "res = 1.4"
   ]
  },
  {
   "cell_type": "code",
   "execution_count": 2,
   "metadata": {},
   "outputs": [],
   "source": [
    "def get_ncols(arr, n_rows=4):\n",
    "    return max(3, ceil(len(arr) / n_rows))\n",
    "\n",
    "def make_plots(markers):\n",
    "    pg.dotplot(adata, genes=markers, groupby='louvain_labels', switch_axes=True)\n",
    "    pg.scatter(adata, attrs=\"clusters\", basis='umap', legend_loc='on data')\n",
    "    pg.scatter(adata, attrs=\"clusters\", basis='umap')\n",
    "    for i in range(0, len(markers) + len(markers) % 2, 2):\n",
    "        pg.scatter(adata, attrs=markers[i:min(i + 2, len(markers))], basis='umap', ncols=2, cmap=\"cool\")"
   ]
  },
  {
   "cell_type": "code",
   "execution_count": 3,
   "metadata": {},
   "outputs": [
    {
     "name": "stdout",
     "output_type": "stream",
     "text": [
      "2020-12-27 11:58:32,926 - pegasusio.readwrite - INFO - h5ad file '/Volumes/scqc/data/mouse/ebi_tm/Cerebellum/Cerebellum.h5ad' is loaded.\n",
      "2020-12-27 11:58:32,927 - pegasusio.readwrite - INFO - Function 'read_input' finished in 19.05s.\n",
      "2020-12-27 11:58:33,017 - pegasusio.aggr_data - INFO - Function 'aggregate' finished in 0.08s.\n",
      "2020-12-27 11:58:33,029 - pegasusio.data_aggregation - INFO - Aggregated 1 files.\n",
      "2020-12-27 11:58:33,030 - pegasusio.data_aggregation - INFO - Function 'aggregate_matrices' finished in 19.19s.\n",
      "2020-12-27 11:58:33,485 - pegasusio.qc_utils - INFO - After filtration, 2426 out of 2427 cell barcodes are kept in UnimodalData object GRCm38-rna.\n",
      "2020-12-27 11:58:33,643 - pegasus.tools.preprocessing - INFO - After filtration, 28407/36251 genes are kept. Among 28407 genes, 25011 genes are robust.\n",
      "2020-12-27 11:58:33,737 - pegasus.tools.preprocessing - INFO - Function 'log_norm' finished in 0.09s.\n"
     ]
    }
   ],
   "source": [
    "tissue, is_human, adata = auto_reader(project, task_id, TASKS_PER_TISS)  # read the data for current task id\n",
    "method, param = \"mad\", 2\n",
    "adata = initial_qc(adata, 100, 3, is_human)\n",
    "pg.log_norm(adata)"
   ]
  },
  {
   "cell_type": "code",
   "execution_count": 7,
   "metadata": {},
   "outputs": [
    {
     "name": "stdout",
     "output_type": "stream",
     "text": [
      "2020-12-27 11:59:58,147 - pegasusio.qc_utils - INFO - After filtration, 2234 out of 2426 cell barcodes are kept in UnimodalData object GRCm38-rna.\n"
     ]
    },
    {
     "name": "stderr",
     "output_type": "stream",
     "text": [
      "<ipython-input-7-b17f090632c4>:7: SettingWithCopyWarning: \n",
      "A value is trying to be set on a copy of a slice from a DataFrame\n",
      "\n",
      "See the caveats in the documentation: https://pandas.pydata.org/pandas-docs/stable/user_guide/indexing.html#returning-a-view-versus-a-copy\n",
      "  adata.obs[\"retained\"][cells[\"barcodekey\"]] = True\n"
     ]
    }
   ],
   "source": [
    "task_directory = \"filtered_cells_plots/no_outlier/\"\n",
    "results_dir = \"/Users/michaelalperovich/Documents/primes_storage/output_pg/\" + project + \"/\" + tissue + \"/\" + task_directory   # directory for saving output\n",
    "cells = pd.read_csv(results_dir + \"!cells.csv\")\n",
    "clusters = pd.read_csv(results_dir + \"!clusters.csv\")\n",
    "\n",
    "adata.obs[\"retained\"] = False\n",
    "adata.obs[\"retained\"][cells[\"barcodekey\"]] = True\n",
    "adata.obs[\"passed_qc\"] = (adata.obs.retained)\n",
    "pg.filter_data(adata)"
   ]
  },
  {
   "cell_type": "code",
   "execution_count": 8,
   "metadata": {},
   "outputs": [],
   "source": [
    "cells.index = cells.barcodekey\n",
    "cells.louvain_labels = [t - 1 for t in cells.louvain_labels]\n",
    "cells = cells.reindex(adata.obs.index)\n",
    "adata.obs[\"louvain_labels\"] = cells.louvain_labels\n",
    "adata.obs[\"clusters\"] = [str(t) for t in adata.obs[\"louvain_labels\"]]\n",
    "adata.obs[\"scale\"] = cells.scale\n",
    "x_umap = np.array([[cells.umap1[i], cells.umap2[i]] for i in range(len(cells.umap1))], dtype=\"float32\")\n",
    "adata.obsm[\"X_umap\"] = x_umap"
   ]
  },
  {
   "cell_type": "code",
   "execution_count": null,
   "metadata": {},
   "outputs": [],
   "source": [
    "cl = 22"
   ]
  },
  {
   "cell_type": "code",
   "execution_count": null,
   "metadata": {},
   "outputs": [],
   "source": [
    "genes = clusters[\"markers\"][cl].split(\"; \")\n",
    "top10 = []\n",
    "for gene in genes:\n",
    "    if not re.match(\"^Rp[sl]\\d\", gene, flags=re.IGNORECASE):\n",
    "        top10.append(gene)\n",
    "    if len(top10) == 10:\n",
    "        break\n",
    "    \n",
    "make_plots(top10)"
   ]
  },
  {
   "cell_type": "code",
   "execution_count": null,
   "metadata": {},
   "outputs": [],
   "source": [
    "low_genes = pd.read_csv(results_dir + \"!low_percent_DE.csv\")\n",
    "low_genes_cluster = low_genes[low_genes.cluster == cl]\n",
    "top = []\n",
    "for i in range(len(low_genes_cluster[\"gene\"])):\n",
    "    gene = list(low_genes_cluster.gene)[i]\n",
    "    if not re.match(\"^Rp[sl]\\d\", gene, flags=re.IGNORECASE):\n",
    "        top.append(gene)\n",
    "    \n",
    "make_plots(top)"
   ]
  },
  {
   "cell_type": "code",
   "execution_count": null,
   "metadata": {},
   "outputs": [],
   "source": [
    "pg.de_analysis(adata, cluster='clusters', auc=False, t=True, fisher=False, mwu=False,\n",
    "                       temp_folder=\"/tmp\", subset=\"4,5\")"
   ]
  },
  {
   "cell_type": "code",
   "execution_count": null,
   "metadata": {},
   "outputs": [],
   "source": [
    "marker_dict = pg.markers(adata)"
   ]
  },
  {
   "cell_type": "code",
   "execution_count": null,
   "metadata": {},
   "outputs": [],
   "source": [
    "def write_markers(marker_dict, min_log_fc=0.25, min_pct=25):\n",
    "    frames = []\n",
    "    # iterate through all keys in the markers dict\n",
    "    for cl in marker_dict.keys():\n",
    "        for d in marker_dict[cl].keys():\n",
    "            df = marker_dict[cl][d]\n",
    "            df['cluster'] = cl\n",
    "            df['up/down'] = d\n",
    "\n",
    "            # filter markers based on log_fc and pct\n",
    "            df = df[(df[\"mean_logExpr\"] >= min_log_fc) & (\n",
    "                    (df[\"percentage\"] >= min_pct) | (df[\"percentage_other\"] >= min_pct))]\n",
    "\n",
    "            frames.append(df)\n",
    "    result = pd.concat(frames)  # merge all marker data frames together\n",
    "    with open(\"/Users/michaelalperovich/Desktop/markers.csv\", \"w\") as fout:\n",
    "        fout.write(result.to_csv())"
   ]
  },
  {
   "cell_type": "code",
   "execution_count": null,
   "metadata": {},
   "outputs": [],
   "source": [
    "write_markers(marker_dict)"
   ]
  },
  {
   "cell_type": "code",
   "execution_count": null,
   "metadata": {},
   "outputs": [],
   "source": [
    "marker_dict"
   ]
  },
  {
   "cell_type": "code",
   "execution_count": null,
   "metadata": {},
   "outputs": [],
   "source": []
  }
 ],
 "metadata": {
  "kernelspec": {
   "display_name": "Python 3",
   "language": "python",
   "name": "python3"
  },
  "language_info": {
   "codemirror_mode": {
    "name": "ipython",
    "version": 3
   },
   "file_extension": ".py",
   "mimetype": "text/x-python",
   "name": "python",
   "nbconvert_exporter": "python",
   "pygments_lexer": "ipython3",
   "version": "3.8.1"
  }
 },
 "nbformat": 4,
 "nbformat_minor": 4
}
